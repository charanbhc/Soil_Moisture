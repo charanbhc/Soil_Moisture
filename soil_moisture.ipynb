{
 "cells": [
  {
   "cell_type": "code",
   "execution_count": 1,
   "id": "09f03204-dca7-4c36-bb8f-3f3d54887381",
   "metadata": {},
   "outputs": [],
   "source": [
    "import pandas as pd\n",
    "import numpy as np\n",
    "import matplotlib.pyplot as plt\n",
    "import seaborn as sns\n",
    "from sklearn.model_selection import train_test_split\n",
    "from sklearn.preprocessing import StandardScaler\n",
    "from sklearn.linear_model import LinearRegression\n",
    "from sklearn.ensemble import RandomForestRegressor\n",
    "from sklearn.metrics import mean_squared_error, r2_score\n",
    "from tensorflow.keras.models import Sequential\n",
    "from tensorflow.keras.layers import Dense, Input\n",
    "from tensorflow.keras.optimizers import Adam"
   ]
  },
  {
   "cell_type": "code",
   "execution_count": 2,
   "id": "c526bb12-0175-40cd-9269-22110bc6fad5",
   "metadata": {},
   "outputs": [],
   "source": [
    "# Load the dataset\n",
    "data = pd.read_csv('soil_moisture_data.csv')"
   ]
  },
  {
   "cell_type": "code",
   "execution_count": 3,
   "id": "fc3ff506-3b50-4928-8da4-c05171e78784",
   "metadata": {},
   "outputs": [
    {
     "name": "stdout",
     "output_type": "stream",
     "text": [
      "First few rows of the data:\n",
      "          VV         VH   smap_am  soil_moisture\n",
      "0  -9.058618 -15.982408  0.284554          0.301\n",
      "1  -9.511266 -18.085192  0.218601          0.172\n",
      "2 -10.926619 -19.470199  0.286454          0.485\n",
      "3  -8.650778 -14.840568  0.407210          0.143\n",
      "4  -6.633557 -13.470629  0.420252          0.375\n"
     ]
    }
   ],
   "source": [
    "# Display the first few rows of the data\n",
    "print(\"First few rows of the data:\")\n",
    "print(data.head())"
   ]
  },
  {
   "cell_type": "code",
   "execution_count": 4,
   "id": "2a47062c-6ac9-404b-b365-96040f10669b",
   "metadata": {},
   "outputs": [
    {
     "name": "stdout",
     "output_type": "stream",
     "text": [
      "\n",
      "Data information:\n",
      "<class 'pandas.core.frame.DataFrame'>\n",
      "RangeIndex: 30747 entries, 0 to 30746\n",
      "Data columns (total 4 columns):\n",
      " #   Column         Non-Null Count  Dtype  \n",
      "---  ------         --------------  -----  \n",
      " 0   VV             30747 non-null  float64\n",
      " 1   VH             30747 non-null  float64\n",
      " 2   smap_am        30747 non-null  float64\n",
      " 3   soil_moisture  30747 non-null  float64\n",
      "dtypes: float64(4)\n",
      "memory usage: 961.0 KB\n",
      "None\n"
     ]
    }
   ],
   "source": [
    "# Get an overview of the dataset\n",
    "print(\"\\nData information:\")\n",
    "print(data.info())"
   ]
  },
  {
   "cell_type": "code",
   "execution_count": 5,
   "id": "28c421f2-7230-47e7-b239-dbabe4d25584",
   "metadata": {},
   "outputs": [
    {
     "name": "stdout",
     "output_type": "stream",
     "text": [
      "\n",
      "Missing values in each column:\n",
      "VV               0\n",
      "VH               0\n",
      "smap_am          0\n",
      "soil_moisture    0\n",
      "dtype: int64\n"
     ]
    }
   ],
   "source": [
    "# Check for missing values\n",
    "print(\"\\nMissing values in each column:\")\n",
    "print(data.isnull().sum())"
   ]
  },
  {
   "cell_type": "code",
   "execution_count": 6,
   "id": "f430dd40-ddf1-4235-8237-8fe758323103",
   "metadata": {},
   "outputs": [
    {
     "name": "stdout",
     "output_type": "stream",
     "text": [
      "\n",
      "Summary statistics:\n",
      "                 VV            VH       smap_am  soil_moisture\n",
      "count  30747.000000  30747.000000  30747.000000   30747.000000\n",
      "mean      -9.195999    -16.417307      0.147262       0.412488\n",
      "std        2.943375      3.413569      0.121603      17.746967\n",
      "min      -26.670000    -35.349515      0.000000       0.000000\n",
      "25%      -10.845618    -18.014890      0.071006       0.078000\n",
      "50%       -9.104179    -15.783631      0.125384       0.174000\n",
      "75%       -7.631939    -14.171636      0.202437       0.279000\n",
      "max        5.057968     -4.289361      0.674961    1396.570000\n"
     ]
    }
   ],
   "source": [
    "# Summary statistics\n",
    "print(\"\\nSummary statistics:\")\n",
    "print(data.describe())"
   ]
  },
  {
   "cell_type": "code",
   "execution_count": 7,
   "id": "f91023d1-d7a7-4c6a-93df-76ffd092b69b",
   "metadata": {},
   "outputs": [
    {
     "name": "stdout",
     "output_type": "stream",
     "text": [
      "\n",
      "Correlation matrix:\n"
     ]
    },
    {
     "data": {
      "image/png": "[encoded data removed]",
      "text/plain": [
       "<Figure size 640x480 with 2 Axes>"
      ]
     },
     "metadata": {},
     "output_type": "display_data"
    }
   ],
   "source": [
    "# Explore correlations between variables\n",
    "print(\"\\nCorrelation matrix:\")\n",
    "corr_matrix = data.corr()\n",
    "sns.heatmap(corr_matrix, annot=True, cmap='coolwarm')\n",
    "plt.title('Correlation Matrix')\n",
    "plt.show()"
   ]
  },
  {
   "cell_type": "code",
   "execution_count": 8,
   "id": "d2fb5973-c2fb-4348-ac26-d4f14ddfb0c7",
   "metadata": {},
   "outputs": [
    {
     "name": "stdout",
     "output_type": "stream",
     "text": [
      "\n",
      "First few rows of the data after standardization:\n",
      "      VV     VH  smap_am  soil_moisture\n",
      "0  0.047  0.127    1.129          0.301\n",
      "1 -0.107 -0.489    0.587          0.172\n",
      "2 -0.588 -0.894    1.145          0.485\n",
      "3  0.185  0.462    2.138          0.143\n",
      "4  0.871  0.863    2.245          0.375\n"
     ]
    }
   ],
   "source": [
    "# Feature Engineering\n",
    "# Standardize input features\n",
    "scaler = StandardScaler()\n",
    "data[['VV', 'VH', 'smap_am']] = scaler.fit_transform(data[['VV', 'VH', 'smap_am']])\n",
    "\n",
    "# Round the standardized input features to 3 decimal places\n",
    "data[['VV', 'VH', 'smap_am']] = data[['VV', 'VH', 'smap_am']].round(3)\n",
    "\n",
    "# Optional: Round the target variable (soil_moisture) to 3 decimal places for consistency\n",
    "data['soil_moisture'] = data['soil_moisture'].round(3)\n",
    "\n",
    "# Check the first few rows of the data after standardization\n",
    "print(\"\\nFirst few rows of the data after standardization:\")\n",
    "print(data.head())"
   ]
  },
  {
   "cell_type": "code",
   "execution_count": 9,
   "id": "aaaf81c4-0c5c-4c6d-9932-9af70cdefc85",
   "metadata": {
    "scrolled": true
   },
   "outputs": [],
   "source": [
    "# Split the data into train and test sets\n",
    "X = data[['VV', 'VH', 'smap_am']]\n",
    "y = data['soil_moisture']\n",
    "X_train, X_test, y_train, y_test = train_test_split(X, y, test_size=0.2, random_state=42)\n"
   ]
  },
  {
   "cell_type": "code",
   "execution_count": 10,
   "id": "51b5500d-7472-4e1b-a90f-b00eac215382",
   "metadata": {},
   "outputs": [],
   "source": [
    "# Model Training and Evaluation\n",
    "\n",
    "# Linear Regression model\n",
    "lin_reg = LinearRegression()\n",
    "lin_reg.fit(X_train, y_train)\n",
    "y_pred_lin_reg = lin_reg.predict(X_test)"
   ]
  },
  {
   "cell_type": "code",
   "execution_count": 11,
   "id": "6975f0bf-caa1-4c54-b9aa-25c6fb4dd572",
   "metadata": {},
   "outputs": [],
   "source": [
    "# Random Forest model\n",
    "rf = RandomForestRegressor(random_state=42)\n",
    "rf.fit(X_train, y_train)\n",
    "y_pred_rf = rf.predict(X_test)"
   ]
  },
  {
   "cell_type": "code",
   "execution_count": 12,
   "id": "5bc1d98b-84ce-4ca0-937f-bb07cc8cfdb7",
   "metadata": {},
   "outputs": [
    {
     "name": "stdout",
     "output_type": "stream",
     "text": [
      "\u001b[1m193/193\u001b[0m \u001b[32m━━━━━━━━━━━━━━━━━━━━\u001b[0m\u001b[37m\u001b[0m \u001b[1m0s\u001b[0m 406us/step\n"
     ]
    }
   ],
   "source": [
    "# Neural Network model\n",
    "nn = Sequential([\n",
    "    Input(shape=(X_train.shape[1],)),  # Specify input shape using an Input layer\n",
    "    Dense(16, activation='relu'),\n",
    "    Dense(8, activation='relu'),\n",
    "    Dense(1)  # Output layer for regression\n",
    "])\n",
    "# Compile the model\n",
    "nn.compile(optimizer=Adam(), loss='mse')\n",
    "\n",
    "# Train the model\n",
    "nn.fit(X_train, y_train, epochs=50, batch_size=16, validation_data=(X_test, y_test), verbose=0)\n",
    "\n",
    "# Predict with the model\n",
    "y_pred_nn = nn.predict(X_test)\n",
    "\n",
    "# Reshape y_pred_nn to be one-dimensional if necessary\n",
    "y_pred_nn = y_pred_nn.flatten()"
   ]
  },
  {
   "cell_type": "code",
   "execution_count": 13,
   "id": "dbb81727-3cc5-4aa1-a156-0da8d283fe3b",
   "metadata": {},
   "outputs": [],
   "source": [
    "# Calculate mean squared error and R-squared for each model\n",
    "mse_lin_reg = mean_squared_error(y_test, y_pred_lin_reg)\n",
    "r2_lin_reg = r2_score(y_test, y_pred_lin_reg)\n",
    "\n",
    "mse_rf = mean_squared_error(y_test, y_pred_rf)\n",
    "r2_rf = r2_score(y_test, y_pred_rf)\n",
    "\n",
    "mse_nn = mean_squared_error(y_test, y_pred_nn)\n",
    "r2_nn = r2_score(y_test, y_pred_nn)"
   ]
  },
  {
   "cell_type": "code",
   "execution_count": 14,
   "id": "7557df4d-8def-49ec-beeb-7ae7e4811c01",
   "metadata": {},
   "outputs": [
    {
     "name": "stdout",
     "output_type": "stream",
     "text": [
      "\n",
      "Linear Regression Model Results:\n",
      "MSE: 627.9269430368934, R-squared: 5.780436989299975e-05\n",
      "\n",
      "Random Forest Model Results:\n",
      "MSE: 806.6283420907575, R-squared: -0.2845152201094754\n",
      "\n",
      "Neural Network Model Results:\n",
      "MSE: 623.2516900230527, R-squared: 0.007502910549246011\n"
     ]
    }
   ],
   "source": [
    "# Display results\n",
    "print(f\"\\nLinear Regression Model Results:\")\n",
    "print(f\"MSE: {mse_lin_reg}, R-squared: {r2_lin_reg}\")\n",
    "\n",
    "print(f\"\\nRandom Forest Model Results:\")\n",
    "print(f\"MSE: {mse_rf}, R-squared: {r2_rf}\")\n",
    "\n",
    "print(f\"\\nNeural Network Model Results:\")\n",
    "print(f\"MSE: {mse_nn}, R-squared: {r2_nn}\")"
   ]
  },
  {
   "cell_type": "code",
   "execution_count": 15,
   "id": "f0f3cac6-2124-492c-b28b-a7c892bb6e4b",
   "metadata": {},
   "outputs": [
    {
     "data": {
      "image/png": "[encoded data removed]",
      "text/plain": [
       "<Figure size 1600x600 with 3 Axes>"
      ]
     },
     "metadata": {},
     "output_type": "display_data"
    }
   ],
   "source": [
    "# Plot predicted vs actual values\n",
    "plt.figure(figsize=(16, 6))\n",
    "\n",
    "# Linear Regression\n",
    "plt.subplot(1, 3, 1)\n",
    "plt.scatter(y_test, y_pred_lin_reg, alpha=0.5)\n",
    "plt.title('Linear Regression')\n",
    "plt.xlabel('Actual')\n",
    "plt.ylabel('Predicted')\n",
    "\n",
    "# Random Forest\n",
    "plt.subplot(1, 3, 2)\n",
    "plt.scatter(y_test, y_pred_rf, alpha=0.5)\n",
    "plt.title('Random Forest')\n",
    "plt.xlabel('Actual')\n",
    "\n",
    "# Neural Network\n",
    "plt.subplot(1, 3, 3)\n",
    "plt.scatter(y_test, y_pred_nn, alpha=0.5)\n",
    "plt.title('Neural Network')\n",
    "plt.xlabel('Actual')\n",
    "\n",
    "plt.tight_layout()\n",
    "plt.show()"
   ]
  },
  {
   "cell_type": "code",
   "execution_count": 16,
   "id": "d7969ccb-35e7-4dcb-bfbe-a41547786874",
   "metadata": {},
   "outputs": [
    {
     "name": "stdout",
     "output_type": "stream",
     "text": [
      "\n",
      "Accuracy percentage for Linear Regression: 22.59%\n",
      "Accuracy percentage for Random Forest: 52.73%\n",
      "Accuracy percentage for Neural Network: 43.32%\n"
     ]
    }
   ],
   "source": [
    "# Calculate the accuracy percentage for each model\n",
    "# Define the tolerance for the accuracy calculation\n",
    "tolerance = 0.1  # You can adjust this value as per your requirement\n",
    "\n",
    "# Calculate the accuracy for each model\n",
    "accuracy_lin_reg = np.mean(np.abs(y_test - y_pred_lin_reg) <= tolerance) * 100\n",
    "accuracy_rf = np.mean(np.abs(y_test - y_pred_rf) <= tolerance) * 100\n",
    "accuracy_nn = np.mean(np.abs(y_test - y_pred_nn) <= tolerance) * 100\n",
    "\n",
    "# Display the accuracy results\n",
    "print(f\"\\nAccuracy percentage for Linear Regression: {accuracy_lin_reg:.2f}%\")\n",
    "print(f\"Accuracy percentage for Random Forest: {accuracy_rf:.2f}%\")\n",
    "print(f\"Accuracy percentage for Neural Network: {accuracy_nn:.2f}%\")"
   ]
  },
  {
   "cell_type": "code",
   "execution_count": 17,
   "id": "96ff8e06-8aef-46b8-bedb-dc8721b657c3",
   "metadata": {},
   "outputs": [
    {
     "name": "stdin",
     "output_type": "stream",
     "text": [
      "Enter VV:  -9.5111\n",
      "Enter VH:  -18.085\n",
      "Enter smap_am:  0.218\n"
     ]
    },
    {
     "name": "stdout",
     "output_type": "stream",
     "text": [
      "\u001b[1m1/1\u001b[0m \u001b[32m━━━━━━━━━━━━━━━━━━━━\u001b[0m\u001b[37m\u001b[0m \u001b[1m0s\u001b[0m 13ms/step\n",
      "\n",
      "Predicted soil moisture values:\n",
      "Linear Regression: 0.266\n",
      "Random Forest: 0.189\n",
      "Neural Network: 0.216\n",
      "Final mean: 0.202\n"
     ]
    },
    {
     "name": "stderr",
     "output_type": "stream",
     "text": [
      "/Users/charanbhc/opt/anaconda3/lib/python3.11/site-packages/sklearn/base.py:465: UserWarning: X does not have valid feature names, but StandardScaler was fitted with feature names\n",
      "  warnings.warn(\n",
      "/Users/charanbhc/opt/anaconda3/lib/python3.11/site-packages/sklearn/base.py:465: UserWarning: X does not have valid feature names, but LinearRegression was fitted with feature names\n",
      "  warnings.warn(\n",
      "/Users/charanbhc/opt/anaconda3/lib/python3.11/site-packages/sklearn/base.py:465: UserWarning: X does not have valid feature names, but RandomForestRegressor was fitted with feature names\n",
      "  warnings.warn(\n"
     ]
    }
   ],
   "source": [
    "# Function to predict soil moisture using the trained models\n",
    "def predict_soil_moisture(VV, VH, smap_am):\n",
    "    # Standardize the input features using the scaler\n",
    "    input_data = np.array([[VV, VH, smap_am]])\n",
    "    input_data_scaled = scaler.transform(input_data)\n",
    "    \n",
    "    # Predict using the trained models\n",
    "    pred_lin_reg = lin_reg.predict(input_data_scaled)[0]  # Get prediction from Linear Regression\n",
    "    pred_rf = rf.predict(input_data_scaled)[0]  # Get prediction from Random Forest\n",
    "    pred_nn = nn.predict(input_data_scaled).flatten()[0]  # Get prediction from Neural Network\n",
    "    \n",
    "    # Calculate the average prediction of Random Forest and Neural Network models\n",
    "    avg_rf_nn_prediction = (pred_rf + pred_nn) / 2\n",
    "    \n",
    "    # Return the predictions from each model and the average of Random Forest and Neural Network models\n",
    "    return {\n",
    "        'Linear Regression': pred_lin_reg,\n",
    "        'Random Forest': pred_rf,\n",
    "        'Neural Network': pred_nn,\n",
    "        'Average RF and NN': avg_rf_nn_prediction  # Add the average prediction of Random Forest and Neural Network\n",
    "    }\n",
    "\n",
    "# Example usage: Provide input values for VV, VH, and smap_am\n",
    "VV_input = float(input(\"Enter VV: \"))\n",
    "VH_input = float(input(\"Enter VH: \"))\n",
    "smap_am_input = float(input(\"Enter smap_am: \"))\n",
    "\n",
    "# Get predictions\n",
    "predictions = predict_soil_moisture(VV_input, VH_input, smap_am_input)\n",
    "\n",
    "# Display the predictions and the average of Random Forest and Neural Network\n",
    "print(\"\\nPredicted soil moisture values:\")\n",
    "print(f\"Linear Regression: {predictions['Linear Regression']:.3f}\")\n",
    "print(f\"Random Forest: {predictions['Random Forest']:.3f}\")\n",
    "print(f\"Neural Network: {predictions['Neural Network']:.3f}\")\n",
    "print(f\"Final mean: {predictions['Average RF and NN']:.3f}\")  # Print the average prediction of RF and NN models\n"
   ]
  },
  {
   "cell_type": "code",
   "execution_count": null,
   "id": "2c0be736-3e72-436f-b4b8-48e4f3ccdb14",
   "metadata": {},
   "outputs": [],
   "source": []
  },
  {
   "cell_type": "code",
   "execution_count": null,
   "id": "344e295d-689d-4ae4-835e-7ea1cc778427",
   "metadata": {},
   "outputs": [],
   "source": []
  },
  {
   "cell_type": "code",
   "execution_count": null,
   "id": "7225af9c-f8e0-4d4f-af65-f4a6ef230577",
   "metadata": {},
   "outputs": [],
   "source": []
  }
 ],
 "metadata": {
  "kernelspec": {
   "display_name": "Python 3 (ipykernel)",
   "language": "python",
   "name": "python3"
  },
  "language_info": {
   "codemirror_mode": {
    "name": "ipython",
    "version": 3
   },
   "file_extension": ".py",
   "mimetype": "text/x-python",
   "name": "python",
   "nbconvert_exporter": "python",
   "pygments_lexer": "ipython3",
   "version": "3.11.5"
  }
 },
 "nbformat": 4,
 "nbformat_minor": 5
}
